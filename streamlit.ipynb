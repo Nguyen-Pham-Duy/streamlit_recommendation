{
 "cells": [
  {
   "cell_type": "code",
   "execution_count": 2,
   "id": "dc45ec47",
   "metadata": {},
   "outputs": [
    {
     "name": "stderr",
     "output_type": "stream",
     "text": [
      "2025-04-08 15:44:44.963 WARNING streamlit.runtime.scriptrunner_utils.script_run_context: Thread 'MainThread': missing ScriptRunContext! This warning can be ignored when running in bare mode.\n",
      "2025-04-08 15:44:45.361 \n",
      "  \u001b[33m\u001b[1mWarning:\u001b[0m to view this Streamlit app on a browser, run it with the following\n",
      "  command:\n",
      "\n",
      "    streamlit run C:\\Users\\DNLP24-IT14\\AppData\\Roaming\\Python\\Python38\\site-packages\\ipykernel_launcher.py [ARGUMENTS]\n",
      "2025-04-08 15:44:45.361 Thread 'MainThread': missing ScriptRunContext! This warning can be ignored when running in bare mode.\n",
      "2025-04-08 15:44:45.361 Thread 'MainThread': missing ScriptRunContext! This warning can be ignored when running in bare mode.\n",
      "2025-04-08 15:44:45.361 Thread 'MainThread': missing ScriptRunContext! This warning can be ignored when running in bare mode.\n",
      "2025-04-08 15:44:45.377 Thread 'MainThread': missing ScriptRunContext! This warning can be ignored when running in bare mode.\n",
      "2025-04-08 15:44:45.378 Thread 'MainThread': missing ScriptRunContext! This warning can be ignored when running in bare mode.\n",
      "2025-04-08 15:44:45.379 Thread 'MainThread': missing ScriptRunContext! This warning can be ignored when running in bare mode.\n",
      "2025-04-08 15:44:45.380 Thread 'MainThread': missing ScriptRunContext! This warning can be ignored when running in bare mode.\n",
      "2025-04-08 15:44:45.380 Session state does not function when running a script without `streamlit run`\n",
      "2025-04-08 15:44:45.380 Thread 'MainThread': missing ScriptRunContext! This warning can be ignored when running in bare mode.\n",
      "2025-04-08 15:44:45.386 Thread 'MainThread': missing ScriptRunContext! This warning can be ignored when running in bare mode.\n",
      "2025-04-08 15:44:45.386 Thread 'MainThread': missing ScriptRunContext! This warning can be ignored when running in bare mode.\n",
      "2025-04-08 15:44:45.391 Thread 'MainThread': missing ScriptRunContext! This warning can be ignored when running in bare mode.\n"
     ]
    }
   ],
   "source": [
    "import streamlit as st\n",
    "st.title(\"Trung Tam Tin Hoc\")\n",
    "st.subheader(\"How to run streamlit app\")\n",
    "menu = [\"Home\", \"About\"]\n",
    "choice = st.sidebar.selectbox('Menu', menu)\n",
    "if choice == 'Home':\n",
    "    st.subheader(\"Streamlit From Windows\")\n",
    "elif choice == 'About':\n",
    "    st.subheader(\"[Trung Tam Tin Hoc](https://csc.edu.vn)\")"
   ]
  },
  {
   "cell_type": "code",
   "execution_count": null,
   "id": "f943daf4",
   "metadata": {},
   "outputs": [],
   "source": [
    "streamlit run <ten_app>.py"
   ]
  }
 ],
 "metadata": {
  "kernelspec": {
   "display_name": "Python 3",
   "language": "python",
   "name": "python3"
  },
  "language_info": {
   "codemirror_mode": {
    "name": "ipython",
    "version": 3
   },
   "file_extension": ".py",
   "mimetype": "text/x-python",
   "name": "python",
   "nbconvert_exporter": "python",
   "pygments_lexer": "ipython3",
   "version": "3.8.10"
  }
 },
 "nbformat": 4,
 "nbformat_minor": 5
}
