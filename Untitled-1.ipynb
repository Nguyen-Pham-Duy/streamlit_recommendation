{
 "cells": [
  {
   "cell_type": "code",
   "execution_count": 1,
   "id": "9bb6113f",
   "metadata": {},
   "outputs": [
    {
     "ename": "NameError",
     "evalue": "name 'tfidf_matrix' is not defined",
     "output_type": "error",
     "traceback": [
      "\u001b[1;31m---------------------------------------------------------------------------\u001b[0m",
      "\u001b[1;31mNameError\u001b[0m                                 Traceback (most recent call last)",
      "Cell \u001b[1;32mIn[1], line 3\u001b[0m\n\u001b[0;32m      1\u001b[0m \u001b[38;5;28;01mimport\u001b[39;00m \u001b[38;5;21;01mnumpy\u001b[39;00m \u001b[38;5;28;01mas\u001b[39;00m \u001b[38;5;21;01mnp\u001b[39;00m\n\u001b[1;32m----> 3\u001b[0m np\u001b[38;5;241m.\u001b[39msavez(\u001b[38;5;124m\"\u001b[39m\u001b[38;5;124mdense_tfidf_matrix.npz\u001b[39m\u001b[38;5;124m\"\u001b[39m, tfidf_matrix\u001b[38;5;241m=\u001b[39m\u001b[43mtfidf_matrix\u001b[49m\u001b[38;5;241m.\u001b[39mtoarray())\n",
      "\u001b[1;31mNameError\u001b[0m: name 'tfidf_matrix' is not defined"
     ]
    }
   ],
   "source": [
    "import numpy as np\n",
    "\n",
    "np.savez(\"dense_tfidf_matrix.npz\", tfidf_matrix=tfidf_matrix.toarray())"
   ]
  },
  {
   "cell_type": "code",
   "execution_count": 2,
   "id": "25f79f72",
   "metadata": {},
   "outputs": [],
   "source": [
    "import scipy.sparse\n",
    "import numpy as np"
   ]
  },
  {
   "cell_type": "code",
   "execution_count": 8,
   "id": "9571cb0e",
   "metadata": {},
   "outputs": [
    {
     "data": {
      "text/plain": [
       "<5000x5780 sparse matrix of type '<class 'numpy.float32'>'\n",
       "\twith 260315 stored elements in Compressed Sparse Row format>"
      ]
     },
     "execution_count": 8,
     "metadata": {},
     "output_type": "execute_result"
    }
   ],
   "source": [
    "tfidf_matrix = scipy.sparse.load_npz('sklearn_tfidf_matrix.npz')\n",
    "tfidf_matrix"
   ]
  },
  {
   "cell_type": "code",
   "execution_count": 12,
   "id": "d3134f26",
   "metadata": {},
   "outputs": [
    {
     "data": {
      "text/plain": [
       "<numpy.lib.npyio.NpzFile at 0x1d7a1764d90>"
      ]
     },
     "execution_count": 12,
     "metadata": {},
     "output_type": "execute_result"
    }
   ],
   "source": [
    "tfidf_matrix_ = np.load('dense_tfidf_matrix_2.npz')\n",
    "tfidf_matrix_"
   ]
  },
  {
   "cell_type": "code",
   "execution_count": 5,
   "id": "40f16b98",
   "metadata": {},
   "outputs": [],
   "source": [
    "tfidf_matrix = scipy.sparse.load_npz('sklearn_tfidf_matrix.npz')\n",
    "#np.savez(\"sklearn_tfidf_matrix_.npz\", tfidf_matrix)\n",
    "\n",
    "np.savez(\"sklearn_tfidf_matrix_.npz\",\n",
    "         data=tfidf_matrix.data,\n",
    "         indices=tfidf_matrix.indices,\n",
    "         indptr=tfidf_matrix.indptr,\n",
    "         shape=tfidf_matrix.shape)"
   ]
  },
  {
   "cell_type": "code",
   "execution_count": null,
   "id": "d075f124",
   "metadata": {},
   "outputs": [],
   "source": [
    "cosine_sim_sparse = scipy.sparse.load_npz('sklearn_cosine_sim_sparse.npz')\n",
    "# np.savez(\"sklearn_cosine_sim_sparse_.npz\", cosine_sim_sparse )\n",
    "np.savez(\"sklearn_cosine_sim_sparse_.npz\",\n",
    "         data=cosine_sim_sparse.data,\n",
    "         indices=cosine_sim_sparse.indices,\n",
    "         indptr=cosine_sim_sparse.indptr,\n",
    "         shape=cosine_sim_sparse.shape)"
   ]
  }
 ],
 "metadata": {
  "kernelspec": {
   "display_name": "Python 3",
   "language": "python",
   "name": "python3"
  },
  "language_info": {
   "codemirror_mode": {
    "name": "ipython",
    "version": 3
   },
   "file_extension": ".py",
   "mimetype": "text/x-python",
   "name": "python",
   "nbconvert_exporter": "python",
   "pygments_lexer": "ipython3",
   "version": "3.8.10"
  }
 },
 "nbformat": 4,
 "nbformat_minor": 5
}
